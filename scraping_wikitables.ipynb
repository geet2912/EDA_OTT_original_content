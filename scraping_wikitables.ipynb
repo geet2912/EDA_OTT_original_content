{
 "cells": [
  {
   "cell_type": "code",
   "execution_count": 2,
   "metadata": {},
   "outputs": [],
   "source": [
    "import os\n",
    "import pandas as pd\n",
    "import requests\n",
    "from bs4 import BeautifulSoup "
   ]
  },
  {
   "cell_type": "code",
   "execution_count": null,
   "metadata": {},
   "outputs": [],
   "source": [
    "# 1. Netflix: \n",
    "# https://en.wikipedia.org/wiki/List_of_Netflix_original_films_(2015%E2%80%932017)\n",
    "# https://en.wikipedia.org/wiki/List_of_Netflix_original_films_(2018)\n",
    "# https://en.wikipedia.org/wiki/List_of_Netflix_original_films_(2019)\n",
    "# https://en.wikipedia.org/wiki/List_of_Netflix_exclusive_international_distribution_films\n",
    "# https://en.wikipedia.org/wiki/List_of_Netflix_exclusive_international_distribution_TV_shows - 30 tables\n",
    "# https://en.wikipedia.org/wiki/List_of_Netflix_original_films_(2020)\n",
    "# https://en.wikipedia.org/wiki/List_of_Netflix_original_films_(2021)\n",
    "# https://en.wikipedia.org/wiki/List_of_Netflix_original_films_(2022)\n",
    "# https://en.wikipedia.org/wiki/List_of_Netflix_original_films_(since_2023) - Awaiting release section\n",
    "# https://en.wikipedia.org/wiki/List_of_Netflix_original_stand-up_comedy_specials\n",
    "# https://en.wikipedia.org/wiki/List_of_ended_Netflix_original_programming\n",
    "\n",
    "# 2. Amazon Prime Video\n",
    "# https://en.wikipedia.org/wiki/List_of_Amazon_Prime_Video_original_programming#Original_programming - 25 tables\n",
    "# https://en.wikipedia.org/wiki/List_of_Amazon_Prime_Video_original_films#\n",
    "# https://en.wikipedia.org/wiki/List_of_Amazon_India_originals\n",
    "# https://en.wikipedia.org/wiki/List_of_Amazon_Prime_Video_exclusive_international_distribution_programming"
   ]
  },
  {
   "cell_type": "code",
   "execution_count": 69,
   "metadata": {},
   "outputs": [],
   "source": [
    "# Update wikiurl as needed\n",
    "wikiurl = \"https://en.wikipedia.org/wiki/List_of_Amazon_India_originals\"\n",
    "response = requests.get(wikiurl)\n",
    "soup = BeautifulSoup(response.text, 'html.parser')\n",
    "\n",
    "# Finds all tables in a page\n",
    "tables = soup.find_all('table')\n",
    "\n",
    "# Loop through each table and convert it to a pandas dataframe\n",
    "netflix_tables = []\n",
    "for table in tables:\n",
    "    # Use pandas read_html() function to parse the table HTML and convert it to a dataframe\n",
    "    df = pd.read_html(str(table))[0]\n",
    "    # Append the dataframe to the list of dataframes\n",
    "    netflix_tables.append(df)\n",
    "\n",
    "del df, response, soup, table, tables, wikiurl"
   ]
  },
  {
   "cell_type": "code",
   "execution_count": 71,
   "metadata": {},
   "outputs": [
    {
     "name": "stdout",
     "output_type": "stream",
     "text": [
      "29\n",
      "<bound method NDFrame.head of                  Title                Genre            Premiere   \n",
      "0            The Remix    Music competition       March 9, 2018  \\\n",
      "1           Comicstaan   Comedy competition       July 13, 2018   \n",
      "2      Hear Me Love Me     Dating game show  September 28, 2018   \n",
      "3     Skulls and Roses  Reality competition     August 29, 2019   \n",
      "4  Jestination Unknown   Travel documentary    October 18, 2019   \n",
      "5        One Mic Stand      Stand-up comedy   November 14, 2019   \n",
      "\n",
      "         Seasons/episodes     Runtime   Status  \n",
      "0   1 season, 10 episodes  54–63 min.    Ended  \n",
      "1  2 seasons, 17 episodes  56–71 min.  Pending  \n",
      "2   1 season, 10 episodes  52–65 min.  Pending  \n",
      "3   1 season, 10 episodes  40–49 min.  Pending  \n",
      "4    1 season, 6 episodes  40–53 min.  Pending  \n",
      "5    1 season, 5 episodes  54–66 min.  Pending  >\n"
     ]
    }
   ],
   "source": [
    "print(len(netflix_tables))\n",
    "print(netflix_tables[6].head)"
   ]
  },
  {
   "cell_type": "code",
   "execution_count": 72,
   "metadata": {},
   "outputs": [
    {
     "name": "stdout",
     "output_type": "stream",
     "text": [
      "7\n"
     ]
    }
   ],
   "source": [
    "# Check if the length === no. of tables you need,\n",
    "# Delet all unwanted tables\n",
    "\n",
    "# netflix_tables.pop()\n",
    "\n",
    "del netflix_tables[7:]\n",
    "print(len(netflix_tables))"
   ]
  },
  {
   "cell_type": "code",
   "execution_count": 73,
   "metadata": {},
   "outputs": [],
   "source": [
    "for idx, item in enumerate(netflix_tables):\n",
    "    filename = 'amazon_india_' + str(idx) + '.xlsx'\n",
    "    item.to_excel(filename, index=False)\n",
    "\n",
    "del filename, idx, item"
   ]
  },
  {
   "cell_type": "code",
   "execution_count": null,
   "metadata": {},
   "outputs": [],
   "source": [
    "#Set up an empty dataframe to hold the extracted data\n",
    "df = pd.DataFrame(columns=['Title', 'Genre', 'Premiere','Finale','Seasons', 'Runtime','Language'])\n",
    "\n",
    "# Set the path to the folder containing the Excel files\n",
    "folder_path = 'D:/PortfolioProjects/extracted_tables/Netflix/TV Shows'\n",
    "\n",
    "# Loop through each file in the folder\n",
    "for filename in os.listdir(folder_path):\n",
    "    # Check if the file is an Excel file\n",
    "    if filename.endswith('.xlsx'):\n",
    "        print(filename)\n",
    "        # Read in the Excel file as a dataframe\n",
    "        file_path = os.path.join(folder_path, filename)\n",
    "        temp_df = pd.read_excel(file_path, usecols=['Title', 'Genre', 'Premiere','Finale','Seasons', 'Runtime','Language'])\n",
    "        # Append the extracted data to the main dataframe\n",
    "        df = pd.concat([df, temp_df], ignore_index=True)\n",
    "\n",
    "# Save the extracted data to a new Excel file\n",
    "df.to_excel('netflix_tvshows.xlsx', index=False)\n"
   ]
  }
 ],
 "metadata": {
  "kernelspec": {
   "display_name": "Python 3",
   "language": "python",
   "name": "python3"
  },
  "language_info": {
   "codemirror_mode": {
    "name": "ipython",
    "version": 3
   },
   "file_extension": ".py",
   "mimetype": "text/x-python",
   "name": "python",
   "nbconvert_exporter": "python",
   "pygments_lexer": "ipython3",
   "version": "3.11.3"
  },
  "orig_nbformat": 4
 },
 "nbformat": 4,
 "nbformat_minor": 2
}
